{
  "cells": [
    {
      "cell_type": "code",
      "execution_count": null,
      "id": "8bc6271a-0549-4f46-ace2-d69603444512",
      "metadata": {
        "id": "8bc6271a-0549-4f46-ace2-d69603444512"
      },
      "outputs": [],
      "source": [
        "import pandas as pd\n",
        "# import numpy as np\n",
        "# import matplotlib.pyplot as plt\n",
        "# import seaborn as sns\n",
        "# import statsmodels.api as sm\n",
        "# from sklearn.ensemble import BaggingClassifier\n",
        "# import warnings\n",
        "# warnings.filterwarnings(\"ignore\")\n",
        "data = pd.read_csv(r'https://raw.githubusercontent.com/aminur-sarker6232/Students-performance-of-computer-science/refs/heads/main/Student_performances%20Of%20computer%20science.csv')\n",
        "df = data.copy()\n",
        "dfC = data.copy()\n",
        "df.head()"
      ]
    },
    {
      "cell_type": "code",
      "execution_count": null,
      "id": "3891006f-968c-4bc0-8a0d-17cbc1197f78",
      "metadata": {
        "id": "3891006f-968c-4bc0-8a0d-17cbc1197f78"
      },
      "outputs": [],
      "source": [
        "df.head()"
      ]
    },
    {
      "cell_type": "code",
      "execution_count": null,
      "id": "d71cc4ed-016c-490c-9fee-c4103c7e393e",
      "metadata": {
        "id": "d71cc4ed-016c-490c-9fee-c4103c7e393e"
      },
      "outputs": [],
      "source": [
        "df.info()"
      ]
    },
    {
      "cell_type": "code",
      "execution_count": null,
      "id": "1df5f03d-cc6d-4f4a-8b58-125fda1ce3a3",
      "metadata": {
        "id": "1df5f03d-cc6d-4f4a-8b58-125fda1ce3a3"
      },
      "outputs": [],
      "source": [
        "df.isnull().sum()"
      ]
    },
    {
      "cell_type": "code",
      "execution_count": null,
      "id": "1fabf6ad-5e97-4b1d-88d4-2c9ccbfdf031",
      "metadata": {
        "id": "1fabf6ad-5e97-4b1d-88d4-2c9ccbfdf031"
      },
      "outputs": [],
      "source": [
        "df['NumberOfFriend'].fillna(data['NumberOfFriend'].median(), inplace=True)"
      ]
    },
    {
      "cell_type": "code",
      "execution_count": null,
      "id": "a5a7edf3-f22e-4dbf-90c5-6bcadb0487d8",
      "metadata": {
        "id": "a5a7edf3-f22e-4dbf-90c5-6bcadb0487d8"
      },
      "outputs": [],
      "source": [
        "df.isnull().sum()"
      ]
    },
    {
      "cell_type": "code",
      "execution_count": null,
      "id": "830f6fd1-dca8-431d-9233-d31da43f4f0b",
      "metadata": {
        "id": "830f6fd1-dca8-431d-9233-d31da43f4f0b"
      },
      "outputs": [],
      "source": [
        "df.duplicated().sum()"
      ]
    },
    {
      "cell_type": "code",
      "execution_count": null,
      "id": "399ef1ca-9ce2-46e2-a417-50880b8ffc42",
      "metadata": {
        "scrolled": true,
        "id": "399ef1ca-9ce2-46e2-a417-50880b8ffc42"
      },
      "outputs": [],
      "source": [
        "df.shape"
      ]
    },
    {
      "cell_type": "code",
      "execution_count": null,
      "id": "2372c7be-037a-4439-b33a-2dd6c58cb676",
      "metadata": {
        "id": "2372c7be-037a-4439-b33a-2dd6c58cb676"
      },
      "outputs": [],
      "source": [
        "df.describe()"
      ]
    },
    {
      "cell_type": "code",
      "execution_count": null,
      "id": "08ac706a-c73b-4ddf-9d6c-fe37c699c907",
      "metadata": {
        "id": "08ac706a-c73b-4ddf-9d6c-fe37c699c907"
      },
      "outputs": [],
      "source": [
        "data = df.groupby(['DepressionStatus', 'AcademicPerformance']).size().unstack()\n",
        "data.plot(kind='bar', stacked=True)\n",
        "plt.title('Relationship Between Academic Performance and DepressionStatus')\n",
        "plt.xlabel('Depression Status')\n",
        "plt.ylabel('Number of individuals')\n",
        "plt.legend(title='Academic Performance', loc='upper right')\n",
        "plt.xticks(rotation=0)\n",
        "plt.show()\n",
        "\n",
        "data = df.groupby(['Gender', 'AcademicPerformance']).size().unstack()\n",
        "data.plot(kind='bar', stacked=True)\n",
        "plt.title('Relationship Between Academic Performance and Gender')\n",
        "plt.xlabel('Gender')\n",
        "plt.ylabel('Number of individuals')\n",
        "plt.legend(title='Academic Performance', loc='upper right')\n",
        "plt.xticks(rotation=0)\n",
        "plt.show()\n",
        "\n",
        "\n",
        "\n",
        "\n",
        "data = df.groupby(['SleepPerDayHours', 'AcademicPerformance']).size().unstack()\n",
        "data.plot(kind='bar', stacked=True)\n",
        "plt.title('Relationship Between Sleep Hours and Academic Performance')\n",
        "plt.xlabel('Sleep Hours per Day')\n",
        "plt.ylabel('Number of individuals')\n",
        "plt.legend(title='Academic Performance', loc='upper right')\n",
        "plt.xticks(rotation=0)\n",
        "plt.show()\n",
        "\n",
        "data = df.groupby(['LikePresentation', 'AcademicPerformance']).size().unstack()\n",
        "data.plot(kind='bar', stacked=True)\n",
        "plt.title('Relationship Between Liking Presentation and Academic Performance')\n",
        "plt.xlabel('Like Presentation')\n",
        "plt.ylabel('Number of individuals')\n",
        "plt.legend(title='Academic Performance', loc='upper right')\n",
        "plt.xticks(rotation=0)\n",
        "plt.show()\n",
        "\n",
        "data1 = df.groupby(['TakingNoteInClass', 'AcademicPerformance']).size().unstack()\n",
        "\n",
        "\n",
        "data1.plot(kind='bar', stacked=True)\n",
        "\n",
        "\n",
        "plt.title('Relationship Between Taking Notes in Class and Academic Performance')\n",
        "plt.xlabel('Taking Notes in Class')\n",
        "plt.ylabel('Number of individuals')\n",
        "plt.legend(title='Academic Performance', loc='upper right')\n",
        "plt.xticks(rotation=0)\n",
        "\n",
        "plt.show()\n",
        "\n",
        "data = df.groupby(['FaceChallangesToCompleteAcademicTask', 'AcademicPerformance']).size().unstack()\n",
        "data.plot(kind='bar', stacked=True)\n",
        "plt.title('Relationship Between Faces Challenge to complete task and Academic Performance')\n",
        "plt.xlabel('Faces challenge to complete task')\n",
        "plt.ylabel('Number of individuals')\n",
        "plt.legend(title='Academic Performance', loc='upper right')\n",
        "plt.xticks(rotation=0)\n",
        "plt.show()\n",
        "\n",
        "data = df.groupby(['LikeNewThings', 'AcademicPerformance']).size().unstack()\n",
        "data.plot(kind='bar', stacked=True)\n",
        "plt.title('Relationship Between Like new things and Academic Performance')\n",
        "plt.xlabel('Like New things ')\n",
        "plt.ylabel('Number of individuals')\n",
        "plt.legend(title='Academic Performance', loc='upper right')\n",
        "plt.xticks(rotation=0)\n",
        "plt.show()"
      ]
    },
    {
      "cell_type": "markdown",
      "id": "d469c6bb-42ad-4830-a199-8fcb2a98d1d3",
      "metadata": {
        "id": "d469c6bb-42ad-4830-a199-8fcb2a98d1d3"
      },
      "source": [
        "## Bivariate Anallysis"
      ]
    },
    {
      "cell_type": "code",
      "execution_count": null,
      "id": "0775eabd-b447-497b-8d64-7163aeb983e8",
      "metadata": {
        "id": "0775eabd-b447-497b-8d64-7163aeb983e8"
      },
      "outputs": [],
      "source": [
        "Numeric = df[[\"Age \",   \"SleepPerDayHours\",\"NumberOfFriend\"]]\n",
        "df1 = pd.DataFrame([])\n",
        "df1['Gender'] = df['Gender'].map({'Male': 1, 'Female': 0})\n",
        "df1['AcademicPerformance'] = df['AcademicPerformance'].map({'Below average': 0, 'Average': 1, 'Good': 2, 'Excellent': 3})\n",
        "df1['TakingNoteInClass'] = df['TakingNoteInClass'].map({'No': 0, 'Sometimes': '1', 'Yes': 2})\n",
        "df1['LikePresentation']= df['LikePresentation'].map({'No': 0, 'Yes': 1})\n",
        "df1['DepressionStatus'] = df['DepressionStatus'].map({'No': 0, 'Sometimes': 1, 'Yes': 2})\n",
        "df1['LikeNewThings'] = df['LikeNewThings'].map({'No': 0, 'Yes': 1})\n",
        "df1[[\"Age \",   \"SleepPerDayHours\",\"NumberOfFriend\"]]=df[[\"Age \",   \"SleepPerDayHours\",\"NumberOfFriend\"]]\n",
        "df1['FaceChallangesToCompleteAcademicTask'] = df['FaceChallangesToCompleteAcademicTask'].map({'No': 0, 'Sometimes': '1', 'Yes': 2})\n",
        "X = df1[['FaceChallangesToCompleteAcademicTask', 'Gender', 'AcademicPerformance', 'TakingNoteInClass', 'LikePresentation', 'DepressionStatus','LikeNewThings']]\n",
        "plt.figure(figsize=(15,8))\n",
        "sns.heatmap(X.corr(),annot=True, fmt='0.2f', cmap='coolwarm')\n",
        "num_cols = df1[['Age ', 'SleepPerDayHours',  'NumberOfFriend', 'DepressionStatus']]\n",
        "plt.figure(figsize=(15,8))\n",
        "sns.heatmap(num_cols.corr(),annot=True, fmt='0.2f', cmap='coolwarm')\n",
        "plt.show()\n",
        "for i in X:\n",
        "    if i!='AcademicPerformance':\n",
        "        (pd.crosstab(df[i],df['AcademicPerformance'],normalize='index')*100).plot(kind='bar',figsize=(8,4),stacked=True)\n",
        "        plt.ylabel('Percentage of AcadamicPerformance %')\n",
        "        plt.xticks(rotation=0)\n",
        "\n"
      ]
    },
    {
      "cell_type": "code",
      "execution_count": null,
      "id": "b5308a92-5573-410f-993b-1b7f417c64ac",
      "metadata": {
        "id": "b5308a92-5573-410f-993b-1b7f417c64ac"
      },
      "outputs": [],
      "source": [
        "\n",
        "Y = df[['FaceChallangesToCompleteAcademicTask','SleepPerDayHours', 'Gender',  'DepressionStatus','TakingNoteInClass', 'LikePresentation', 'DepressionStatus','LikeNewThings']]\n",
        "\n",
        "for ft in Y:\n",
        "    if ft != 'AcademicPerformance':\n",
        "        plt.figure(figsize=(8, 6))\n",
        "        sns.countplot(x='AcademicPerformance', hue=ft, data=df, palette='Set1', alpha=0.7)\n",
        "        plt.title('Barplot Features related to Academic Performance')\n",
        "        plt.xlabel('Depression Status')\n",
        "        plt.ylabel('Count')\n",
        "        plt.legend(title=ft, loc='upper right')\n",
        "        plt.show()\n",
        "\n"
      ]
    },
    {
      "cell_type": "code",
      "execution_count": null,
      "id": "b56fa6a9-0c99-4868-884f-9863711c410b",
      "metadata": {
        "id": "b56fa6a9-0c99-4868-884f-9863711c410b"
      },
      "outputs": [],
      "source": [
        "\n",
        "def handle_outliers_iqr_numeric(data):\n",
        "\n",
        "    for col in data.select_dtypes(include=['number']).columns:\n",
        "        Q1 = data[col].quantile(0.25)\n",
        "        Q3 = data[col].quantile(0.75)\n",
        "        IQR = Q3 - Q1\n",
        "        lower_bound = Q1 - 1.5 * IQR\n",
        "        upper_bound = Q3 + 1.5 * IQR\n",
        "\n",
        "# Replace outliers with upper or lower bound values\n",
        "        data[col] = data[col].apply(lambda x: lower_bound if x < lower_bound else upper_bound if x > upper_bound else x)\n",
        "\n",
        "    return data\n",
        "\n",
        "# Example usage with your DataFrame df1\n",
        "df1 = handle_outliers_iqr_numeric(df.copy())\n",
        "print(\"Data after handling outliers in numeric columns:\")\n",
        "print(df1)\n"
      ]
    },
    {
      "cell_type": "code",
      "execution_count": null,
      "id": "2bf4ea81-6e8c-45b1-be89-705eebe89aeb",
      "metadata": {
        "id": "2bf4ea81-6e8c-45b1-be89-705eebe89aeb"
      },
      "outputs": [],
      "source": [
        "df1['AcademicPerformance'].value_counts()"
      ]
    },
    {
      "cell_type": "code",
      "execution_count": null,
      "id": "cb921a65-35b6-4e45-8cd5-37b59748a941",
      "metadata": {
        "id": "cb921a65-35b6-4e45-8cd5-37b59748a941"
      },
      "outputs": [],
      "source": [
        "x = df1.drop('AcademicPerformance', axis=1)\n",
        "y = df1['AcademicPerformance']"
      ]
    },
    {
      "cell_type": "code",
      "execution_count": null,
      "id": "8d693701-3d47-4374-b852-94d1435a508e",
      "metadata": {
        "id": "8d693701-3d47-4374-b852-94d1435a508e"
      },
      "outputs": [],
      "source": [
        "from sklearn.preprocessing import  LabelEncoder, StandardScaler\n",
        "from sklearn.impute import SimpleImputer\n",
        "\n",
        "label_encoder = LabelEncoder()\n",
        "y = label_encoder.fit_transform(y)\n",
        "\n",
        "categorical_columns = x.select_dtypes(include=['object']).columns\n",
        "numerical_columns = x.select_dtypes(include=['float64']).columns\n",
        "\n",
        "cat_imputer = SimpleImputer(strategy='most_frequent')\n",
        "x[categorical_columns] = cat_imputer.fit_transform(x[categorical_columns])\n",
        "\n",
        "num_imputer = SimpleImputer(strategy='median')\n",
        "x[numerical_columns] = num_imputer.fit_transform(x[numerical_columns])\n",
        "\n",
        "\n",
        "x= pd.get_dummies(x, columns=categorical_columns, drop_first=True)\n",
        "\n",
        "scaler = StandardScaler()\n",
        "\n",
        "x[numerical_columns] = scaler.fit_transform(x[numerical_columns])"
      ]
    },
    {
      "cell_type": "code",
      "execution_count": null,
      "id": "7752a0e9-f3d5-40e9-bffa-c6435fcc430f",
      "metadata": {
        "id": "7752a0e9-f3d5-40e9-bffa-c6435fcc430f"
      },
      "outputs": [],
      "source": [
        "x.head()"
      ]
    },
    {
      "cell_type": "code",
      "execution_count": null,
      "id": "72730b9f-0706-46c0-b1fc-2e9422fa0627",
      "metadata": {
        "id": "72730b9f-0706-46c0-b1fc-2e9422fa0627"
      },
      "outputs": [],
      "source": [
        "y"
      ]
    },
    {
      "cell_type": "code",
      "execution_count": null,
      "id": "e9db85f6-45bb-4c44-b165-00a772467289",
      "metadata": {
        "id": "e9db85f6-45bb-4c44-b165-00a772467289"
      },
      "outputs": [],
      "source": [
        "\n",
        "x.hist(bins=20, figsize=(16, 8))\n",
        "plt.suptitle(\"Histograms for Numerical Columns\")\n",
        "plt.show()"
      ]
    },
    {
      "cell_type": "code",
      "execution_count": null,
      "id": "8bc7e8a2-a67d-4c66-913a-454cdc65af6e",
      "metadata": {
        "id": "8bc7e8a2-a67d-4c66-913a-454cdc65af6e"
      },
      "outputs": [],
      "source": []
    },
    {
      "cell_type": "code",
      "execution_count": null,
      "id": "724f48cf-75f3-4853-b951-ba4395436c9b",
      "metadata": {
        "id": "724f48cf-75f3-4853-b951-ba4395436c9b"
      },
      "outputs": [],
      "source": []
    },
    {
      "cell_type": "code",
      "execution_count": null,
      "id": "46ab5a63-5596-4205-9dec-f9f3ab2ca5f2",
      "metadata": {
        "id": "46ab5a63-5596-4205-9dec-f9f3ab2ca5f2"
      },
      "outputs": [],
      "source": []
    },
    {
      "cell_type": "code",
      "execution_count": null,
      "id": "133f3471-3c8a-4f0e-b4fc-c26c23c68422",
      "metadata": {
        "id": "133f3471-3c8a-4f0e-b4fc-c26c23c68422"
      },
      "outputs": [],
      "source": [
        "from sklearn.model_selection import train_test_split\n",
        "X_train,X_test,y_train,y_test=train_test_split(x,y,test_size=0.24,random_state=1)"
      ]
    },
    {
      "cell_type": "code",
      "execution_count": null,
      "id": "f56e2ef9-dd32-48ed-901a-3c973aca1fd9",
      "metadata": {
        "id": "f56e2ef9-dd32-48ed-901a-3c973aca1fd9"
      },
      "outputs": [],
      "source": [
        "from sklearn.preprocessing import StandardScaler\n",
        "st=StandardScaler()\n",
        "X_train=st.fit_transform(X_train)\n",
        "X_test=st.transform(X_test)"
      ]
    },
    {
      "cell_type": "markdown",
      "id": "f9649e1b-5d49-4765-9619-71df0f927afe",
      "metadata": {
        "id": "f9649e1b-5d49-4765-9619-71df0f927afe"
      },
      "source": [
        "## Cross Validation"
      ]
    },
    {
      "cell_type": "code",
      "execution_count": null,
      "id": "c42fddc0-64f5-4edc-ad9b-74ad5f79fbe3",
      "metadata": {
        "id": "c42fddc0-64f5-4edc-ad9b-74ad5f79fbe3"
      },
      "outputs": [],
      "source": [
        "from sklearn.model_selection import KFold, cross_val_score\n",
        "from sklearn.linear_model import LogisticRegression\n",
        "from sklearn.svm import SVC\n",
        "from sklearn.tree import DecisionTreeClassifier\n",
        "from sklearn.ensemble import RandomForestClassifier\n",
        "\n",
        "from sklearn.neighbors import KNeighborsClassifier\n",
        "\n",
        "models ={\n",
        "    'SVM' : SVC(kernel = 'poly', gamma= 0.1),\n",
        "    'Decision Tree':DecisionTreeClassifier(),\n",
        "    'Random Forest': RandomForestClassifier()\n",
        "}\n",
        "\n",
        "k_fold = KFold(n_splits = 10, shuffle=True, random_state = 42)\n",
        "\n",
        "for model_name, model in models.items():\n",
        "    cross_score = cross_val_score(model, x, y, cv=k_fold)\n",
        "    print(f\"--------------------------------------------------------\")\n",
        "    print(f\"{model_name}:\\n\")\n",
        "    print(f\"Cross Validation Score for each fold:{cross_score}\\n\")\n",
        "    print(f\"Average Cross Validation Score: {cross_score.mean()}\\n\")\n",
        "    print(f\"--------------------------------------------------------\")"
      ]
    },
    {
      "cell_type": "markdown",
      "id": "75e0aa64-9f1d-4008-991b-b41ed65c7bcd",
      "metadata": {
        "id": "75e0aa64-9f1d-4008-991b-b41ed65c7bcd"
      },
      "source": [
        "## Algorithm"
      ]
    },
    {
      "cell_type": "markdown",
      "id": "dc78485b-98df-4c19-8b1e-ca6973e91f04",
      "metadata": {
        "id": "dc78485b-98df-4c19-8b1e-ca6973e91f04"
      },
      "source": [
        "### SVM"
      ]
    },
    {
      "cell_type": "code",
      "execution_count": null,
      "id": "0e8084a3-b250-4025-a647-db3869070f57",
      "metadata": {
        "id": "0e8084a3-b250-4025-a647-db3869070f57"
      },
      "outputs": [],
      "source": [
        "sv=SVC(probability=True)\n",
        "sv.fit(X_train,y_train)"
      ]
    },
    {
      "cell_type": "code",
      "execution_count": null,
      "id": "295d2871-4ba7-4bf4-b9da-7c2cd4b8574d",
      "metadata": {
        "id": "295d2871-4ba7-4bf4-b9da-7c2cd4b8574d"
      },
      "outputs": [],
      "source": [
        "from sklearn.metrics import classification_report\n",
        "print(classification_report(sv.predict(X_test),y_test))"
      ]
    },
    {
      "cell_type": "markdown",
      "id": "e4635c10-b1ce-4b03-98ca-3ef95cfb0971",
      "metadata": {
        "id": "e4635c10-b1ce-4b03-98ca-3ef95cfb0971"
      },
      "source": [
        "### Decision tree"
      ]
    },
    {
      "cell_type": "code",
      "execution_count": null,
      "id": "7f61028b-a57f-4848-a824-6abcb5600444",
      "metadata": {
        "id": "7f61028b-a57f-4848-a824-6abcb5600444"
      },
      "outputs": [],
      "source": [
        "from sklearn.tree import DecisionTreeClassifier\n",
        "tr=DecisionTreeClassifier(criterion = 'entropy' , max_depth= 10, min_samples_split =5, min_samples_leaf=2, random_state=42)\n",
        "tr.fit(X_train,y_train)"
      ]
    },
    {
      "cell_type": "code",
      "execution_count": null,
      "id": "fa14926b-8698-4aee-90c4-5f7158d6e46a",
      "metadata": {
        "id": "fa14926b-8698-4aee-90c4-5f7158d6e46a"
      },
      "outputs": [],
      "source": [
        "print(classification_report(tr.predict(X_test),y_test))"
      ]
    },
    {
      "cell_type": "markdown",
      "id": "7fa53f02-c8fd-4136-8720-ac9b22d00c62",
      "metadata": {
        "id": "7fa53f02-c8fd-4136-8720-ac9b22d00c62"
      },
      "source": [
        "### Random"
      ]
    },
    {
      "cell_type": "code",
      "execution_count": null,
      "id": "5f987dd6-6135-4ac0-920a-bc3107df1ae2",
      "metadata": {
        "id": "5f987dd6-6135-4ac0-920a-bc3107df1ae2"
      },
      "outputs": [],
      "source": [
        "from sklearn.ensemble import RandomForestClassifier\n",
        "rfc = RandomForestClassifier(max_depth=5, min_samples_split=2, random_state =1)\n",
        "rfc.fit(X_train,y_train)"
      ]
    },
    {
      "cell_type": "code",
      "execution_count": null,
      "id": "2fa14707-f091-436e-8574-1c2a012fdc6c",
      "metadata": {
        "id": "2fa14707-f091-436e-8574-1c2a012fdc6c"
      },
      "outputs": [],
      "source": [
        "print(classification_report(rfc.predict(X_test),y_test))"
      ]
    },
    {
      "cell_type": "markdown",
      "id": "c91fcb10-2d3f-4870-b943-761eca9be988",
      "metadata": {
        "id": "c91fcb10-2d3f-4870-b943-761eca9be988"
      },
      "source": [
        "#  Hyperparameter Tuning"
      ]
    },
    {
      "cell_type": "markdown",
      "id": "b0278270-f5ae-4610-be18-b66e16ee66de",
      "metadata": {
        "id": "b0278270-f5ae-4610-be18-b66e16ee66de"
      },
      "source": [
        "## Decision tree"
      ]
    },
    {
      "cell_type": "code",
      "execution_count": null,
      "id": "6d844629-40ae-47c6-abd9-1fd319800e05",
      "metadata": {
        "id": "6d844629-40ae-47c6-abd9-1fd319800e05"
      },
      "outputs": [],
      "source": [
        "from sklearn.metrics import accuracy_score\n",
        "from sklearn.model_selection import GridSearchCV\n",
        "from sklearn.metrics import confusion_matrix\n",
        "\n",
        "param_grid = {\n",
        "    'criterion': ['gini', 'entropy'],\n",
        "    'max_depth': [10, 20, 40],\n",
        "    'min_samples_split': [2, 10, 20],\n",
        "    'min_samples_leaf': [2, 5, 10],\n",
        "}\n",
        "\n",
        "grid_search = GridSearchCV(estimator=tr, param_grid=param_grid,\n",
        "                           cv=5, n_jobs=-1, verbose=2)\n",
        "\n",
        "grid_search.fit(X_train, y_train)\n",
        "\n",
        "print(f\"Best parameters found: {grid_search.best_params_}\")\n",
        "\n",
        "best_dt_model = grid_search.best_estimator_\n",
        "\n",
        "y_pred_dt = best_dt_model.predict(X_test)\n",
        "\n",
        "print(f\"Accuracy: {accuracy_score(y_test, y_pred_dt)}\")\n",
        "\n",
        "print(confusion_matrix(y_test,y_pred_dt))\n",
        "\n",
        "print(classification_report(y_test, y_pred_dt))"
      ]
    },
    {
      "cell_type": "markdown",
      "id": "0d456d1e-8623-4b15-bb88-c4a8fd0dfa42",
      "metadata": {
        "id": "0d456d1e-8623-4b15-bb88-c4a8fd0dfa42"
      },
      "source": [
        "## Random"
      ]
    },
    {
      "cell_type": "code",
      "execution_count": null,
      "id": "3df5cad4-f099-48d5-8c99-76d3e6225cf1",
      "metadata": {
        "id": "3df5cad4-f099-48d5-8c99-76d3e6225cf1"
      },
      "outputs": [],
      "source": [
        "\n",
        "param_grid = {\n",
        "    'max_depth': [5, 10, 15],\n",
        "    'min_samples_split': [ 5, 10],\n",
        "    'min_samples_leaf': [ 2, 4]\n",
        "}\n",
        "\n",
        "grid_search = GridSearchCV(estimator=rfc, param_grid=param_grid,\n",
        "                           cv=5, n_jobs=-1, verbose=2)\n",
        "\n",
        "grid_search.fit(X_train, y_train)\n",
        "\n",
        "print(f\"Best parameters found: {grid_search.best_params_}\")\n",
        "\n",
        "best_rfc_model = grid_search.best_estimator_\n",
        "\n",
        "y_pred_rfc = best_rfc_model.predict(X_test)\n",
        "\n",
        "from sklearn.metrics import classification_report, confusion_matrix, accuracy_score\n",
        "\n",
        "print(f\"Accuracy: {accuracy_score(y_test, y_pred_rfc)}\")\n",
        "\n",
        "print(confusion_matrix(y_test, y_pred_rfc))\n",
        "\n",
        "print(classification_report(y_test, y_pred_rfc))\n"
      ]
    },
    {
      "cell_type": "markdown",
      "id": "4b8451f0-13fb-447b-9b0d-6f8628182595",
      "metadata": {
        "id": "4b8451f0-13fb-447b-9b0d-6f8628182595"
      },
      "source": [
        "### SVM"
      ]
    },
    {
      "cell_type": "code",
      "execution_count": null,
      "id": "8d7acb68-24d4-4a5c-b6b5-80e3e8698efa",
      "metadata": {
        "id": "8d7acb68-24d4-4a5c-b6b5-80e3e8698efa"
      },
      "outputs": [],
      "source": [
        "from sklearn.model_selection import GridSearchCV\n",
        "\n",
        "param_grid = {\n",
        "     'C': [ 5, 10],\n",
        "     'gamma': [0.0001, 0.001, 0.01, 0.1],\n",
        "     'kernel': ['linear', 'poly'],\n",
        "     'degree': [2, 4, 6]\n",
        "}\n",
        "grid_search = GridSearchCV(estimator=sv, param_grid=param_grid,\n",
        "                           cv=5, n_jobs=-1, verbose=2)\n",
        "\n",
        "grid_search.fit(X_train, y_train)\n",
        "\n",
        "print(f\"Best parameters found: {grid_search.best_params_}\")\n",
        "\n",
        "best_svm_model = grid_search.best_estimator_\n",
        "\n",
        "y_pred_svm = best_svm_model.predict(X_test)\n",
        "\n",
        "from sklearn.metrics import classification_report, confusion_matrix, accuracy_score\n",
        "\n",
        "print(f\"Accuracy: {accuracy_score(y_test,y_pred_svm)}\")\n",
        "\n",
        "print(confusion_matrix(y_test, y_pred_svm))\n",
        "\n",
        "print(classification_report(y_test, y_pred_svm))\n"
      ]
    },
    {
      "cell_type": "code",
      "execution_count": null,
      "id": "0e88cdab-4d5b-481c-bb3c-22ec93387024",
      "metadata": {
        "id": "0e88cdab-4d5b-481c-bb3c-22ec93387024"
      },
      "outputs": [],
      "source": []
    },
    {
      "cell_type": "code",
      "execution_count": null,
      "id": "0ee3d410-d5b3-4e92-bf98-30818b6a4779",
      "metadata": {
        "id": "0ee3d410-d5b3-4e92-bf98-30818b6a4779"
      },
      "outputs": [],
      "source": []
    }
  ],
  "metadata": {
    "kernelspec": {
      "display_name": "Python 3 (ipykernel)",
      "language": "python",
      "name": "python3"
    },
    "language_info": {
      "codemirror_mode": {
        "name": "ipython",
        "version": 3
      },
      "file_extension": ".py",
      "mimetype": "text/x-python",
      "name": "python",
      "nbconvert_exporter": "python",
      "pygments_lexer": "ipython3",
      "version": "3.12.4"
    },
    "colab": {
      "provenance": []
    }
  },
  "nbformat": 4,
  "nbformat_minor": 5
}